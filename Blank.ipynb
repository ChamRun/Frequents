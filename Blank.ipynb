{
 "cells": [
  {
   "cell_type": "code",
   "execution_count": 2,
   "metadata": {
    "collapsed": true
   },
   "outputs": [
    {
     "data": {
      "text/html": [
       "<div>\n",
       "<style scoped>\n",
       "    .dataframe tbody tr th:only-of-type {\n",
       "        vertical-align: middle;\n",
       "    }\n",
       "\n",
       "    .dataframe tbody tr th {\n",
       "        vertical-align: top;\n",
       "    }\n",
       "\n",
       "    .dataframe thead th {\n",
       "        text-align: right;\n",
       "    }\n",
       "</style>\n",
       "<table border=\"1\" class=\"dataframe\">\n",
       "  <thead>\n",
       "    <tr style=\"text-align: right;\">\n",
       "      <th></th>\n",
       "      <th>تاریخ صدور</th>\n",
       "      <th>نام درخواست کننده</th>\n",
       "      <th>نوع درخواست - سازمان</th>\n",
       "      <th>توضیحات</th>\n",
       "    </tr>\n",
       "  </thead>\n",
       "  <tbody>\n",
       "    <tr>\n",
       "      <th>0</th>\n",
       "      <td>1400/09/13</td>\n",
       "      <td>محمد حسين ضميري</td>\n",
       "      <td>سازمان</td>\n",
       "      <td>واحد it_x000D_\\nبا سلام_x000D_\\nاحترام به استح...</td>\n",
       "    </tr>\n",
       "    <tr>\n",
       "      <th>1</th>\n",
       "      <td>1400/09/13</td>\n",
       "      <td>سياوش شبرنگ</td>\n",
       "      <td>سازمان</td>\n",
       "      <td>خانم قره داغی_x000D_\\nرفع مشکل ایمیل</td>\n",
       "    </tr>\n",
       "    <tr>\n",
       "      <th>2</th>\n",
       "      <td>1400/09/13</td>\n",
       "      <td>حميدرضا تلواري</td>\n",
       "      <td>سازمان</td>\n",
       "      <td>با سلام_x000D_\\nاحتراما، روی روی سیستم بنده MS...</td>\n",
       "    </tr>\n",
       "    <tr>\n",
       "      <th>3</th>\n",
       "      <td>1400/09/13</td>\n",
       "      <td>مولود شعباني\\n</td>\n",
       "      <td>سازمان</td>\n",
       "      <td>با سلام و احترام_x000D_\\n_x000D_\\n_x000D_\\nدرخ...</td>\n",
       "    </tr>\n",
       "    <tr>\n",
       "      <th>4</th>\n",
       "      <td>1400/09/13</td>\n",
       "      <td>مولود شعباني\\n</td>\n",
       "      <td>سازمان</td>\n",
       "      <td>با سلام و احترام_x000D_\\n_x000D_\\n_x000D_\\nدرخ...</td>\n",
       "    </tr>\n",
       "    <tr>\n",
       "      <th>5</th>\n",
       "      <td>1400/09/13</td>\n",
       "      <td>سياوش شبرنگ</td>\n",
       "      <td>تیام</td>\n",
       "      <td>با سلام_x000D_\\nخواهان جابجایی سیستم فروشگاه ا...</td>\n",
       "    </tr>\n",
       "    <tr>\n",
       "      <th>6</th>\n",
       "      <td>1400/09/13</td>\n",
       "      <td>سياوش شبرنگ</td>\n",
       "      <td>سازمان</td>\n",
       "      <td>واحد طراحی_x000D_\\nتعمییر دستگاه شارپ</td>\n",
       "    </tr>\n",
       "    <tr>\n",
       "      <th>7</th>\n",
       "      <td>1400/09/13</td>\n",
       "      <td>سياوش شبرنگ</td>\n",
       "      <td>سازمان</td>\n",
       "      <td>خانم صادق_x000D_\\nرفع مشکل اکسل</td>\n",
       "    </tr>\n",
       "    <tr>\n",
       "      <th>8</th>\n",
       "      <td>1400/09/13</td>\n",
       "      <td>سياوش شبرنگ</td>\n",
       "      <td>سازمان</td>\n",
       "      <td>خانم قنبری_x000D_\\nقطعی کابل</td>\n",
       "    </tr>\n",
       "    <tr>\n",
       "      <th>9</th>\n",
       "      <td>1400/09/13</td>\n",
       "      <td>کيوان محرابيان</td>\n",
       "      <td>سازمان</td>\n",
       "      <td>باسلام _x000D_\\n_x000D_\\nایمیل اینجانب دشوار م...</td>\n",
       "    </tr>\n",
       "  </tbody>\n",
       "</table>\n",
       "</div>"
      ],
      "text/plain": [
       "   تاریخ صدور نام درخواست کننده نوع درخواست - سازمان  \\\n",
       "0  1400/09/13   محمد حسين ضميري               سازمان   \n",
       "1  1400/09/13       سياوش شبرنگ               سازمان   \n",
       "2  1400/09/13    حميدرضا تلواري               سازمان   \n",
       "3  1400/09/13    مولود شعباني\\n               سازمان   \n",
       "4  1400/09/13    مولود شعباني\\n               سازمان   \n",
       "5  1400/09/13       سياوش شبرنگ                 تیام   \n",
       "6  1400/09/13       سياوش شبرنگ               سازمان   \n",
       "7  1400/09/13       سياوش شبرنگ               سازمان   \n",
       "8  1400/09/13       سياوش شبرنگ               سازمان   \n",
       "9  1400/09/13    کيوان محرابيان               سازمان   \n",
       "\n",
       "                                             توضیحات  \n",
       "0  واحد it_x000D_\\nبا سلام_x000D_\\nاحترام به استح...  \n",
       "1               خانم قره داغی_x000D_\\nرفع مشکل ایمیل  \n",
       "2  با سلام_x000D_\\nاحتراما، روی روی سیستم بنده MS...  \n",
       "3  با سلام و احترام_x000D_\\n_x000D_\\n_x000D_\\nدرخ...  \n",
       "4  با سلام و احترام_x000D_\\n_x000D_\\n_x000D_\\nدرخ...  \n",
       "5  با سلام_x000D_\\nخواهان جابجایی سیستم فروشگاه ا...  \n",
       "6              واحد طراحی_x000D_\\nتعمییر دستگاه شارپ  \n",
       "7                    خانم صادق_x000D_\\nرفع مشکل اکسل  \n",
       "8                       خانم قنبری_x000D_\\nقطعی کابل  \n",
       "9  باسلام _x000D_\\n_x000D_\\nایمیل اینجانب دشوار م...  "
      ]
     },
     "execution_count": 2,
     "metadata": {},
     "output_type": "execute_result"
    }
   ],
   "source": [
    "import numpy as np\n",
    "import pandas as pd\n",
    "import matplotlib.pyplot as plt\n",
    "\n",
    "\n",
    "df = pd.read_excel('Requests.xlsx')\n",
    "df.head(10)"
   ]
  },
  {
   "cell_type": "code",
   "execution_count": 4,
   "metadata": {},
   "outputs": [
    {
     "data": {
      "text/plain": [
       "'خانم قره داغی_x000D_\\nرفع مشکل ایمیل'"
      ]
     },
     "execution_count": 4,
     "metadata": {},
     "output_type": "execute_result"
    }
   ],
   "source": [
    "df['توضیحات'][1]"
   ]
  }
 ],
 "metadata": {
  "interpreter": {
   "hash": "ac59ebe37160ed0dfa835113d9b8498d9f09ceb179beaac4002f036b9467c963"
  },
  "kernelspec": {
   "display_name": "Python 3.9.6 64-bit",
   "name": "python3"
  },
  "language_info": {
   "codemirror_mode": {
    "name": "ipython",
    "version": 3
   },
   "file_extension": ".py",
   "mimetype": "text/x-python",
   "name": "python",
   "nbconvert_exporter": "python",
   "pygments_lexer": "ipython3",
   "version": "3.9.6"
  }
 },
 "nbformat": 4,
 "nbformat_minor": 0
}