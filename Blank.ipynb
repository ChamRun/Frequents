{
 "cells": [
  {
   "cell_type": "code",
   "execution_count": 4,
   "metadata": {
    "collapsed": true
   },
   "outputs": [
    {
     "data": {
      "text/html": [
       "<div>\n",
       "<style scoped>\n",
       "    .dataframe tbody tr th:only-of-type {\n",
       "        vertical-align: middle;\n",
       "    }\n",
       "\n",
       "    .dataframe tbody tr th {\n",
       "        vertical-align: top;\n",
       "    }\n",
       "\n",
       "    .dataframe thead th {\n",
       "        text-align: right;\n",
       "    }\n",
       "</style>\n",
       "<table border=\"1\" class=\"dataframe\">\n",
       "  <thead>\n",
       "    <tr style=\"text-align: right;\">\n",
       "      <th></th>\n",
       "      <th>تاریخ صدور</th>\n",
       "      <th>نام درخواست کننده</th>\n",
       "      <th>نوع درخواست - سازمان</th>\n",
       "      <th>توضیحات</th>\n",
       "    </tr>\n",
       "  </thead>\n",
       "  <tbody>\n",
       "    <tr>\n",
       "      <th>0</th>\n",
       "      <td>1400/09/13</td>\n",
       "      <td>محمد حسين ضميري</td>\n",
       "      <td>سازمان</td>\n",
       "      <td>واحد it_x000D_\\nبا سلام_x000D_\\nاحترام به استح...</td>\n",
       "    </tr>\n",
       "    <tr>\n",
       "      <th>1</th>\n",
       "      <td>1400/09/13</td>\n",
       "      <td>سياوش شبرنگ</td>\n",
       "      <td>سازمان</td>\n",
       "      <td>خانم قره داغی_x000D_\\nرفع مشکل ایمیل</td>\n",
       "    </tr>\n",
       "    <tr>\n",
       "      <th>2</th>\n",
       "      <td>1400/09/13</td>\n",
       "      <td>حميدرضا تلواري</td>\n",
       "      <td>سازمان</td>\n",
       "      <td>با سلام_x000D_\\nاحتراما، روی روی سیستم بنده MS...</td>\n",
       "    </tr>\n",
       "  </tbody>\n",
       "</table>\n",
       "</div>"
      ],
      "text/plain": [
       "   تاریخ صدور نام درخواست کننده نوع درخواست - سازمان  \\\n",
       "0  1400/09/13   محمد حسين ضميري               سازمان   \n",
       "1  1400/09/13       سياوش شبرنگ               سازمان   \n",
       "2  1400/09/13    حميدرضا تلواري               سازمان   \n",
       "\n",
       "                                             توضیحات  \n",
       "0  واحد it_x000D_\\nبا سلام_x000D_\\nاحترام به استح...  \n",
       "1               خانم قره داغی_x000D_\\nرفع مشکل ایمیل  \n",
       "2  با سلام_x000D_\\nاحتراما، روی روی سیستم بنده MS...  "
      ]
     },
     "execution_count": 4,
     "metadata": {},
     "output_type": "execute_result"
    }
   ],
   "source": [
    "import numpy as np\n",
    "import pandas as pd\n",
    "import matplotlib.pyplot as plt\n",
    "\n",
    "\n",
    "df = pd.read_excel('Requests.xlsx')\n",
    "df.head(3)"
   ]
  },
  {
   "cell_type": "code",
   "execution_count": 3,
   "metadata": {},
   "outputs": [
    {
     "name": "stdout",
     "output_type": "stream",
     "text": [
      "خانم قره داغی_x000D_\n",
      "رفع مشکل ایمیل\n"
     ]
    }
   ],
   "source": [
    "print(df['توضیحات'][1])\n"
   ]
  },
  {
   "cell_type": "code",
   "execution_count": 11,
   "metadata": {},
   "outputs": [
    {
     "data": {
      "text/plain": [
       "10     مژگان اکبري\n",
       "11     سياوش شبرنگ\n",
       "36     مژگان اکبري\n",
       "41     مژگان اکبري\n",
       "44     مژگان اکبري\n",
       "48     مژگان اکبري\n",
       "51     مژگان اکبري\n",
       "67     مژگان اکبري\n",
       "83     مژگان اکبري\n",
       "91     مژگان اکبري\n",
       "129    مژگان اکبري\n",
       "139    مژگان اکبري\n",
       "163    مژگان اکبري\n",
       "178    مژگان اکبري\n",
       "Name: نام درخواست کننده, dtype: object"
      ]
     },
     "execution_count": 11,
     "metadata": {},
     "output_type": "execute_result"
    }
   ],
   "source": [
    "\n",
    "target_df = df[df['توضیحات'].str.contains('واتساپ')]\n",
    "target_df = target_df['نام درخواست کننده']\n",
    "target_df"
   ]
  },
  {
   "cell_type": "code",
   "execution_count": 13,
   "metadata": {},
   "outputs": [
    {
     "data": {
      "text/plain": [
       "array(['مژگان اکبري', 'سياوش شبرنگ', 'مژگان اکبري', 'مژگان اکبري',\n",
       "       'مژگان اکبري', 'مژگان اکبري', 'مژگان اکبري', 'مژگان اکبري',\n",
       "       'مژگان اکبري', 'مژگان اکبري', 'مژگان اکبري', 'مژگان اکبري',\n",
       "       'مژگان اکبري', 'مژگان اکبري'], dtype=object)"
      ]
     },
     "execution_count": 13,
     "metadata": {},
     "output_type": "execute_result"
    }
   ],
   "source": [
    "target_df = np.asanyarray(target_df)\n",
    "target_df"
   ]
  },
  {
   "cell_type": "code",
   "execution_count": 18,
   "metadata": {},
   "outputs": [],
   "source": [
    "from collections import Counter \n",
    "res = Counter(target_df)"
   ]
  },
  {
   "cell_type": "code",
   "execution_count": 26,
   "metadata": {},
   "outputs": [
    {
     "name": "stdout",
     "output_type": "stream",
     "text": [
      "مژگان اکبري: 13\n",
      "سياوش شبرنگ: 1\n"
     ]
    }
   ],
   "source": [
    "for line in res:\n",
    "    print(str(line) + ': ' + str(res[line]))"
   ]
  }
 ],
 "metadata": {
  "interpreter": {
   "hash": "ac59ebe37160ed0dfa835113d9b8498d9f09ceb179beaac4002f036b9467c963"
  },
  "kernelspec": {
   "display_name": "Python 3.9.6 64-bit",
   "name": "python3"
  },
  "language_info": {
   "codemirror_mode": {
    "name": "ipython",
    "version": 3
   },
   "file_extension": ".py",
   "mimetype": "text/x-python",
   "name": "python",
   "nbconvert_exporter": "python",
   "pygments_lexer": "ipython3",
   "version": "3.9.6"
  }
 },
 "nbformat": 4,
 "nbformat_minor": 0
}
